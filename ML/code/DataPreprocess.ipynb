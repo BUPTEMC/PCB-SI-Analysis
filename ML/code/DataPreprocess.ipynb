{
 "cells": [
  {
   "cell_type": "code",
   "execution_count": 1,
   "metadata": {},
   "outputs": [],
   "source": [
    "import matplotlib.pyplot as plt"
   ]
  },
  {
   "cell_type": "code",
   "execution_count": 2,
   "metadata": {},
   "outputs": [],
   "source": [
    "x1 = [0.75, 7.1, 7.1, 7.1, 0.75, 0.75, 0.75, 0.75]\n",
    "y1 = [0.1, 0.1, 3.4, 0.1, 3.4, 3.4, 3.4, 0.1]\n",
    "\n",
    "x2 = [8.501504, 1.493630, 1.493630, 1.493630, 1.545000, 1.493630, 1.493630, 1.493630,\n",
    "      8.501504, 8.501504, 1.493630, 1.545000, 1.545000, 1.545000, 1.493630, 8.501504]\n",
    "y2 = [2.770370, 6.234937, 5.841236, 5.841236, 3.164071, 3.164071, 2.770370, 2.770370,\n",
    "      6.234937, 6.234937, 6.234937, 5.841236, 5.841236, 3.164071, 3.164071, 2.770370]"
   ]
  },
  {
   "cell_type": "code",
   "execution_count": 4,
   "metadata": {},
   "outputs": [
    {
     "data": {
      "text/plain": [
       "<matplotlib.collections.PathCollection at 0x7fb6000dfb50>"
      ]
     },
     "execution_count": 4,
     "metadata": {},
     "output_type": "execute_result"
    },
    {
     "data": {
      "image/png": "[encoded data removed]",
      "text/plain": [
       "<Figure size 432x288 with 1 Axes>"
      ]
     },
     "metadata": {
      "needs_background": "light"
     },
     "output_type": "display_data"
    }
   ],
   "source": [
    "plt.scatter(x2, y2)"
   ]
  },
  {
   "cell_type": "code",
   "execution_count": null,
   "metadata": {},
   "outputs": [],
   "source": []
  }
 ],
 "metadata": {
  "kernelspec": {
   "display_name": "tensorflow",
   "language": "python",
   "name": "tensorflow"
  },
  "language_info": {
   "codemirror_mode": {
    "name": "ipython",
    "version": 3
   },
   "file_extension": ".py",
   "mimetype": "text/x-python",
   "name": "python",
   "nbconvert_exporter": "python",
   "pygments_lexer": "ipython3",
   "version": "3.7.6"
  }
 },
 "nbformat": 4,
 "nbformat_minor": 2
}
